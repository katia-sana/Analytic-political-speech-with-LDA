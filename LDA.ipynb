{
 "cells": [
  {
   "cell_type": "markdown",
   "metadata": {},
   "source": [
    "# Part 1\n",
    "### Preprocessing phase"
   ]
  },
  {
   "cell_type": "code",
   "execution_count": 1,
   "metadata": {
    "collapsed": true
   },
   "outputs": [],
   "source": [
    "import os\n",
    "import pandas as pd\n",
    "import re\n",
    "import unicodedata\n"
   ]
  },
  {
   "cell_type": "markdown",
   "metadata": {},
   "source": [
    "Loop for find all hashtag in tweets. hashtag_list includes all hashtag in aggregation data. "
   ]
  },
  {
   "cell_type": "code",
   "execution_count": null,
   "metadata": {
    "collapsed": false
   },
   "outputs": [],
   "source": [
    "hashtag_list = []\n",
    "directory = os.path.join(\".\",\"agg_data/\")\n",
    "for root,dirs,files in os.walk(directory):\n",
    "    for file in files:\n",
    "        if file.endswith(\".csv\"):\n",
    "            #print root+'/'+file\n",
    "            df = pd.read_csv(root+'/'+file,sep='\\t',encoding='utf-8')\n",
    "            for tweet_text in df['TEXT']:\n",
    "                hashtags = re.findall(r\"#(\\w+)\", tweet_text.lower()),\n",
    "                hashtag_list.extend(hashtags)\n",
    "    print len(hashtag_list)"
   ]
  },
  {
   "cell_type": "markdown",
   "metadata": {},
   "source": [
    "iterate each tweet and create hashtag-tweet dictionary. hastag_tweet_dict include key-values(hastag-tweets) pairs. One tweet may have more than one hastag. "
   ]
  },
  {
   "cell_type": "code",
   "execution_count": null,
   "metadata": {
    "collapsed": false
   },
   "outputs": [],
   "source": [
    "hastag_tweet_dict = {}\n",
    "directory = os.path.join(\".\",\"agg_data/\")\n",
    "for root,dirs,files in os.walk(directory):\n",
    "    for file in files:\n",
    "        if file.endswith(\".csv\"):\n",
    "            #print root+'/'+file #\n",
    "            df = pd.read_csv(root+'/'+file,sep='\\t',encoding='utf-8')\n",
    "            for i in range(len(df.index)):\n",
    "                hashtags = re.findall(r\"#(\\w+)\", df.iloc[i:i+1,7:8].to_string().lower())\n",
    "                for hashtag in hashtags:\n",
    "                    normalized_hashtag = unicodedata.normalize('NFKD', unicode(hashtag)).encode('ASCII', 'ignore')\n",
    "                    if normalized_hashtag in hastag_tweet_dict:\n",
    "                        hastag_tweet_dict[normalized_hashtag]=pd.concat([hastag_tweet_dict[normalized_hashtag],df.iloc[[i]]])\n",
    "                    else:\n",
    "                        hastag_tweet_dict[normalized_hashtag] = df.iloc[[i]]\n",
    "    print len(hastag_tweet_dict)"
   ]
  },
  {
   "cell_type": "markdown",
   "metadata": {},
   "source": [
    "Save each key(hashtag) as a csv file."
   ]
  },
  {
   "cell_type": "code",
   "execution_count": null,
   "metadata": {
    "collapsed": true
   },
   "outputs": [],
   "source": [
    "for key, value in hastag_tweet_dict.items():\n",
    "    value.to_csv(\"./aggbyhashtag/\"+key+\".csv\",encoding='utf-8',sep='\\t',index=None)"
   ]
  },
  {
   "cell_type": "markdown",
   "metadata": {},
   "source": [
    "### Aggregate by politic category"
   ]
  },
  {
   "cell_type": "code",
   "execution_count": null,
   "metadata": {
    "collapsed": false,
    "scrolled": true
   },
   "outputs": [],
   "source": [
    "df_cat = pd.read_csv(\"person2side.csv\",sep='\\t',encoding='utf-8',header=None)\n",
    "df_cat[2].unique()\n",
    "df_cat.columns = [u'USERSCREENNAME', u'PARTIE',u'CAT']\n",
    "df = pd.read_csv(\"agg_data/2016/10/20161001.csv\",sep='\\t',encoding='utf-8')\n",
    "agg_all =  pd.merge(df, df_cat, on='USERSCREENNAME')\n",
    "\n",
    "directory = os.path.join(\".\",\"agg_data\")\n",
    "for root,dirs,files in os.walk(directory):\n",
    "    for file in files:\n",
    "        if file.endswith(\".csv\"):\n",
    "            print root+'/'+file\n",
    "            df = pd.read_csv(root+'/'+file,sep='\\t',encoding='utf-8')\n",
    "            agg =  pd.merge(df, df_cat, on='USERSCREENNAME')\n",
    "            agg_all = agg_all.append(agg)"
   ]
  },
  {
   "cell_type": "code",
   "execution_count": null,
   "metadata": {
    "collapsed": true
   },
   "outputs": [],
   "source": [
    "for c in agg_all.CAT.unique():\n",
    "    result = agg_all[agg_all.CAT == c]\n",
    "    (result.drop(['PARTIE','CAT'], 1)).to_csv('./polcateg/'+c + '.txt',encoding='utf-8',sep='\\t',index=None)"
   ]
  },
  {
   "cell_type": "markdown",
   "metadata": {},
   "source": [
    "### Number of tweet distribution"
   ]
  },
  {
   "cell_type": "code",
   "execution_count": null,
   "metadata": {
    "collapsed": true
   },
   "outputs": [],
   "source": [
    "nmb_tweet_dist = {}\n",
    "directory = os.path.join(\".\",\"aggbyhashtag/\")\n",
    "for root,dirs,files in os.walk(directory):\n",
    "    for file in files:\n",
    "        if file.endswith(\".csv\"):\n",
    "            df = pd.read_csv(root+'/'+file,sep='\\t',encoding='utf-8')\n",
    "            if len(df.index) in nmb_tweet_dist:\n",
    "                nmb_tweet_dist[len(df.index)]+=1\n",
    "            else:\n",
    "                nmb_tweet_dist[len(df.index)]=1"
   ]
  },
  {
   "cell_type": "code",
   "execution_count": null,
   "metadata": {
    "collapsed": false
   },
   "outputs": [],
   "source": [
    "import matplotlib.pylab as plt\n",
    "lists = nmb_tweet_dist.items() # sorted by key, return a list of tuples\n",
    "x, y = zip(*lists) # unpack a list of pairs into two tuples\n",
    "\n",
    "plt.plot(x, y)\n",
    "plt.xlabel(\"number of twit in each doc\")\n",
    "plt.ylabel(\"number of document\")\n",
    "plt.show()"
   ]
  },
  {
   "cell_type": "markdown",
   "metadata": {},
   "source": [
    "### Delete file contains <3 tweet"
   ]
  },
  {
   "cell_type": "code",
   "execution_count": null,
   "metadata": {
    "collapsed": true
   },
   "outputs": [],
   "source": [
    "directory = os.path.join(\".\",\"aggbyhashtag/\")\n",
    "for root,dirs,files in os.walk(directory):\n",
    "    for file in files:\n",
    "        if file.endswith(\".csv\"):\n",
    "            df = pd.read_csv(root+'/'+file,sep='\\t',encoding='utf-8')\n",
    "            if len(df.index)>=3:\n",
    "                df.to_csv(\"./aggseuile/\"+file+\".csv\",encoding='utf-8',sep='\\t',index=None)"
   ]
  },
  {
   "cell_type": "code",
   "execution_count": 154,
   "metadata": {
    "collapsed": false
   },
   "outputs": [],
   "source": [
    "import hashlib\n",
    "directory = os.path.join(\".\",\"aggbyhashtag/\")\n",
    "for root,dirs,files in os.walk(directory):\n",
    "    for file in files:\n",
    "        if file.endswith(\".csv\"):\n",
    "            df = pd.read_csv(root+'/'+file,sep='\\t',encoding='utf-8')\n",
    "            text_dict = {}\n",
    "            for i in range(len(df.index)):\n",
    "                text = df.iloc[i:i+1,7:8].to_string().lower()\n",
    "                hsh = hashlib.md5(text.encode('utf-8')).hexdigest()\n",
    "                if hsh in text_dict:\n",
    "                    df.drop[i]\n",
    "                else:\n",
    "                    text_dict[hsh]=2\n",
    "            df.to_csv('md5/'+file,sep='\\t',encoding='utf-8',index=None)"
   ]
  },
  {
   "cell_type": "markdown",
   "metadata": {},
   "source": [
    "# Part 2\n",
    "### Segmentation phase"
   ]
  },
  {
   "cell_type": "code",
   "execution_count": 2,
   "metadata": {
    "collapsed": true
   },
   "outputs": [],
   "source": [
    "from stop_words import get_stop_words\n",
    "from nltk.tokenize import TweetTokenizer\n",
    "from nltk.tokenize import WordPunctTokenizer\n",
    "import pattern.fr\n",
    "import unidecode\n",
    "import unicodedata\n"
   ]
  },
  {
   "cell_type": "code",
   "execution_count": 3,
   "metadata": {
    "collapsed": false
   },
   "outputs": [],
   "source": [
    "tknzr = TweetTokenizer()\n",
    "tokenizer = WordPunctTokenizer()\n",
    "stoplist = get_stop_words('fr')\n",
    "stoplist.extend(['.', ',', '\"', \"'\", '?', '!', ':', ';', '(', ')', '[', ']', '{', '}','#','-','...','..',':)',';)','plus','via','contre'\n",
    "                 ,'will','now','today','can','day','just','new','apres','après','','bien','faut','hui','aujourd','jour'])\n",
    "stoplist.extend(get_stop_words('en'))\n",
    "\n",
    "def get_token_tweet(tweet):\n",
    "    words = tknzr.tokenize(tweet)\n",
    "    word_list = []\n",
    "    for i in range(len(words)):\n",
    "        if not(words[i][:4]=='http' or  words[i][:1]=='@' or re.match(emoji_pattern,words[i][:])!=None):\n",
    "            word_list.append(words[i])\n",
    "    return \" \".join(word_list)\n",
    "\n",
    "def segment_french(text):\n",
    "    tokens = tokenizer.tokenize(text)\n",
    "    word_list = [word for word in tokens if word not in stoplist and len(word)>=3]\n",
    "    sentence = \" \".join(word_list)\n",
    "    normal = unicodedata.normalize('NFKD', unicode(sentence)).encode('ASCII', 'ignore')\n",
    "    return normal.split(' ')\n",
    "\n",
    "def process(text):\n",
    "    return segment_french(get_token_tweet(text))\n",
    "\n",
    "emoji_pattern = re.compile(\"[\"\n",
    "        u\"\\U0001F600-\\U0001F64F\"  # emoticons\n",
    "        u\"\\U0001F300-\\U0001F5FF\"  # symbols & pictographs\n",
    "        u\"\\U0001F680-\\U0001F6FF\"  # transport & map symbols\n",
    "        u\"\\U0001F1E0-\\U0001F1FF\"  # flags (iOS)\n",
    "                           \"]+\", flags=re.UNICODE)"
   ]
  },
  {
   "cell_type": "code",
   "execution_count": 4,
   "metadata": {
    "collapsed": false
   },
   "outputs": [
    {
     "name": "stderr",
     "output_type": "stream",
     "text": [
      "/home/mc/anaconda2/lib/python2.7/site-packages/ipykernel/__main__.py:18: UnicodeWarning: Unicode equal comparison failed to convert both arguments to Unicode - interpreting them as being unequal\n"
     ]
    }
   ],
   "source": [
    "tweet_text = []\n",
    "directory = os.path.join(\".\",\"aggbyhashtag/\")\n",
    "for root,dirs,files in os.walk(directory):\n",
    "    for file in files:\n",
    "        if file.endswith(\".csv\"):\n",
    "            #print root+'/'+file\n",
    "            df = pd.read_csv(root+'/'+file,sep='\\t',encoding='utf-8')\n",
    "            text_part = []\n",
    "            for text in df['TEXT']:\n",
    "                text_part.extend(process(text.lower()))\n",
    "            tweet_text.append(text_part)"
   ]
  },
  {
   "cell_type": "markdown",
   "metadata": {},
   "source": [
    "# Part 3\n",
    "### Visualization phase"
   ]
  },
  {
   "cell_type": "code",
   "execution_count": 5,
   "metadata": {
    "collapsed": true
   },
   "outputs": [],
   "source": [
    "from gensim import corpora\n",
    "import gensim\n",
    "\n",
    "dictionary = corpora.Dictionary(tweet_text)\n",
    "corpus = [dictionary.doc2bow(txt) for txt in tweet_text]\n",
    "          \n",
    "lda = gensim.models.ldamodel.LdaModel(corpus=corpus, id2word=dictionary, num_topics=40, update_every=1, chunksize=10000, passes=1)"
   ]
  },
  {
   "cell_type": "code",
   "execution_count": null,
   "metadata": {
    "collapsed": false,
    "scrolled": true
   },
   "outputs": [],
   "source": [
    "import pyLDAvis.gensim\n",
    "import json\n",
    "\n",
    "prepare_data = pyLDAvis.gensim.prepare(lda, corpus, dictionary)\n",
    "pr_js = prepare_data.to_dict()\n",
    "with open(\"lda_out.json\", 'wb') as outfile:\n",
    "    json.dump(pr_js, outfile)\n",
    "    \n",
    "pyLDAvis.display(prepare_data)"
   ]
  },
  {
   "cell_type": "markdown",
   "metadata": {},
   "source": [
    "### Test Phase"
   ]
  },
  {
   "cell_type": "code",
   "execution_count": null,
   "metadata": {
    "collapsed": false,
    "scrolled": true
   },
   "outputs": [
    {
     "name": "stderr",
     "output_type": "stream",
     "text": [
      "/home/mc/anaconda2/lib/python2.7/site-packages/ipykernel/__main__.py:16: FutureWarning: sort(....) is deprecated, use sort_index(.....)\n",
      "/home/mc/anaconda2/lib/python2.7/site-packages/ipykernel/__main__.py:18: UnicodeWarning: Unicode equal comparison failed to convert both arguments to Unicode - interpreting them as being unequal\n",
      "/home/mc/anaconda2/lib/python2.7/site-packages/ipykernel/__main__.py:30: FutureWarning: sort(....) is deprecated, use sort_index(.....)\n"
     ]
    }
   ],
   "source": [
    "# for each file/category we group by week !\n",
    "columns = ['DATE','CAT', 'THEME','PROB']\n",
    "newDF = pd.DataFrame(columns=columns) #creates a new dataframe that's empty\n",
    "newDF['THEME'] = newDF['THEME'].astype(int)\n",
    "daterange = pd.date_range('20141101','20161224',freq=\"7D\")\n",
    "categories = ['Centre','Droite','Ecologistes','Extreme-Droite','Extreme-Droite,Identitaires','Extreme-Gauche','Gauche','Identitaires']\n",
    "thems = range(1,41)\n",
    "cnt = 0 \n",
    "for date in daterange:\n",
    "    for cat in categories:\n",
    "        df = pd.read_csv(\"./polcateg/\"+cat+\"/\"+str(date).split()[0].replace('-','')+\".csv\",sep='\\t',encoding='utf-8',parse_dates=True)\n",
    "        if len(df.index)==0:\n",
    "            for them in thems:\n",
    "                newDF.loc[0] = [date,cat,int(them),0]\n",
    "                newDF.index = newDF.index + 1  # shifting index\n",
    "                newDF = newDF.sort()\n",
    "        else:\n",
    "            cnt += 1\n",
    "            text_part = []\n",
    "            for text in df['TEXT']:\n",
    "                text_part.extend(process(text.lower()))\n",
    "            doc_lda = lda[dictionary.doc2bow(text_part)]\n",
    "            temp,temp2 = zip(*doc_lda)\n",
    "            lst = [0]*40\n",
    "            for i in range(len(temp)):\n",
    "                lst[temp[i]]=temp2[i]\n",
    "            for them in thems:\n",
    "                newDF.loc[0] = [date,cat,int(them),lst[them-1]]\n",
    "                newDF.index = newDF.index + 1  # shifting index\n",
    "                newDF = newDF.sort()\n",
    "newDF[\"PROB\"] = newDF[\"PROB\"]/cnt\n",
    "newDF.to_csv('prob.csv',sep='\\t',encoding='utf-8',index=None)\n"
   ]
  },
  {
   "cell_type": "code",
   "execution_count": 164,
   "metadata": {
    "collapsed": false
   },
   "outputs": [],
   "source": [
    "import json\n",
    "with open('./ldavis4/mapping.json') as data_file:    \n",
    "    mapping = json.load(data_file)\n",
    "\n",
    "fusions = mapping['fusions']\n",
    "\n",
    "fusion_assignement = {}\n",
    "\n",
    "for f in fusions:\n",
    "    if not f[0] in fusion_assignement:\n",
    "        fusion_assignement[f[0]] = [f[1]]\n",
    "    else:\n",
    "        fusion_assignement[f[0]].append(f[1])\n",
    "df = pd.read_csv(\"./prob.csv\",sep=\"\\t\")\n",
    "for target in fusion_assignement:\n",
    "    df['THEME'] = df['THEME'].replace(fusion_assignement[target], target)\n",
    "\n",
    "df_fusion = df.groupby(['DATE','CAT','THEME']).sum().reset_index()\n",
    "\n",
    "## rename themes\n",
    "names = mapping['names']\n",
    "\n",
    "for theme in names:\n",
    "    df_fusion['THEME'] = df_fusion['THEME'].replace(int(theme),names[theme])\n",
    "df_fusion.to_csv('prob_fusioned.csv',sep='\\t',encoding='utf-8',index=None)"
   ]
  },
  {
   "cell_type": "code",
   "execution_count": 198,
   "metadata": {
    "collapsed": false
   },
   "outputs": [
    {
     "data": {
      "image/png": "[encoded data removed]",
      "text/plain": [
       "<matplotlib.figure.Figure at 0x7fc3ac11ce50>"
      ]
     },
     "metadata": {},
     "output_type": "display_data"
    }
   ],
   "source": [
    "import numpy as np\n",
    "import matplotlib.pyplot as plt\n",
    "def plott(param1,param2,param3):\n",
    "    df = pd.read_csv(\"./prob_fusioned.csv\",sep='\\t',encoding='utf-8',parse_dates=True)\n",
    "    df['THEME'] = df['THEME'].astype(str)\n",
    "    if param3 == None:\n",
    "        mask = (df['DATE'] == param1) & (df['CAT']== param2) \n",
    "        df2 = df[mask]\n",
    "        X = df2['THEME']\n",
    "        Y = df2['PROB']\n",
    "        norm = [float(i)/sum(Y) for i in Y]   \n",
    "        plt.bar(range(len(X)),norm,align='center')\n",
    "        plt.xticks(range(len(X)),X)\n",
    "        plt.setp(plt.gca().get_xticklabels(), rotation=90,horizontalalignment='center')\n",
    "        plt.ylabel('Probability')\n",
    "        plt.xlabel('Themes')\n",
    "        plt.title(str(param1)+\" / \"+str(param2))\n",
    "        plt.show()   \n",
    "    if param2 == None:\n",
    "        mask = (df['DATE'] == param1) & (df['THEME']== param3) \n",
    "        df2 = df[mask]\n",
    "        X = df2['CAT']\n",
    "        Y = df2['PROB']\n",
    "        norm = [float(i)/sum(Y) for i in Y]\n",
    "        plt.bar(range(len(X)),norm,align='center')\n",
    "        plt.xticks(range(len(X)),X)\n",
    "        plt.setp(plt.gca().get_xticklabels(), rotation=90,horizontalalignment='center')\n",
    "        plt.ylabel('Probability')\n",
    "        plt.xlabel('Categories')\n",
    "        plt.title(str(param1)+\" / \"+str(param3))\n",
    "        plt.show()\n",
    "    if param1 == None:\n",
    "        mask = (df['CAT'] == param2) & (df['THEME']== param3) \n",
    "        df2 = df[mask]\n",
    "        X = df2['DATE']\n",
    "        Y = df2['PROB']\n",
    "        norm = [float(i)/sum(Y) for i in Y]\n",
    "        plt.bar(range(len(X)),norm,align='center')\n",
    "        #plt.xticks(range(len(X)),X)\n",
    "        plt.setp(plt.gca().get_xticklabels(), rotation=90,horizontalalignment='center')\n",
    "        plt.ylabel('Probability')\n",
    "        plt.xlabel('#Week')\n",
    "        plt.title(str(param2)+\" / \"+str(param3))\n",
    "        plt.show()\n",
    "        \n",
    "#plott('2014-12-03','Gauche',None)\n",
    "#plott('2016-12-03',None,'1')\n",
    "#plott(None,'Gauche',20)        "
   ]
  },
  {
   "cell_type": "code",
   "execution_count": 203,
   "metadata": {
    "collapsed": false
   },
   "outputs": [],
   "source": [
    "import csv\n",
    "from Tkinter import *\n",
    "top = Tk()\n",
    "flag=0\n",
    "VARABLE1=0\n",
    "VARABLE2=0\n",
    "top.geometry(\"800x600\")\n",
    "\n",
    "def key():\n",
    "\n",
    "    global VARABLE1\n",
    "\n",
    "    global VARABLE2\n",
    "    \n",
    "    global cabbar\n",
    "\n",
    "\n",
    "    selection = L2.curselection()\n",
    "\n",
    "    if selection:\n",
    "\n",
    "        index = int(L2.curselection()[0])\n",
    "\n",
    "        if index>0:\n",
    "            VARABLE1=L2.get(index)\n",
    "        else :\n",
    "            VARABLE1=-1\n",
    "\n",
    "    selection = L3.curselection()\n",
    "\n",
    "    if selection:\n",
    "\n",
    "        index = int(L3.curselection()[0])\n",
    "\n",
    "        if index>0:\n",
    "            VARABLE2=L3.get(index)\n",
    "            print VARABLE1,VARABLE2\n",
    "            if cabbar==0:\n",
    "                plott(VARABLE1,VARABLE2,None)\n",
    "            elif cabbar==1:\n",
    "                plott(None,VARABLE1,VARABLE2)\n",
    "            else:\n",
    "                plott(VARABLE1,None,VARABLE2)\n",
    "\n",
    "        else :\n",
    "\n",
    "            VARABLE2=-1\n",
    "\n",
    "B1 = Button(top,text='Execute',width=500,command=key)\n",
    "L2 = Listbox(top,width=200,exportselection=0)\n",
    "L3 = Listbox(top,width=200,exportselection=0)\n",
    "def callback(event):\n",
    "    global flag\n",
    "    global B1\n",
    "    global L2\n",
    "    global L3\n",
    "    global VARABLE1\n",
    "    global VARABLE2\n",
    "    global cabbar\n",
    "    if flag<=0:\n",
    "        L2.delete(0, END)\n",
    "        L3.delete(0, END)\n",
    "        w = event.widget\n",
    "        index = int(w.curselection()[0])\n",
    "        value = w.get(index)\n",
    "        window = top\n",
    "        with open('prob_fusioned.csv','rt') as csvfile:\n",
    "            spamreader = csv.reader(csvfile,delimiter='\\t')\n",
    "            data=[]\n",
    "            cat,them,dat=[],[],[]\n",
    "            for row in spamreader:\n",
    "                data=row[0]\n",
    "                #data=data.split('/')\n",
    "                if row[0] not in dat:\n",
    "                    dat.append(row[0])\n",
    "                if row[2] not in them:\n",
    "                    them.append(row[2])\n",
    "                if row[1] not in cat:\n",
    "                    cat.append(row[1])\n",
    "                    \n",
    "            cabbar = index\n",
    "\n",
    "            if index==0:\n",
    "                for dt in dat:\n",
    "                    L2.insert(1,dt)\n",
    "                for ct in cat:\n",
    "                    L3.insert(1,ct)\n",
    "            if index==1:\n",
    "                for ct in cat:\n",
    "                    L2.insert(1,ct)\n",
    "                for th in them:                \n",
    "                    L3.insert(1,th)\n",
    "            if index==2:\n",
    "                for dt in dat:\n",
    "                    L2.insert(1,dt)\n",
    "                for th in them:                \n",
    "                    L3.insert(1,th)\n",
    "  \n",
    "            #Lb2.insert(1,(row))\n",
    "         \n",
    "        L2.pack()\n",
    "        L3.pack()        \n",
    "        B1.pack()\n",
    "\n",
    "# Code to add widgets will go here...\n",
    "Lb1 = Listbox(top,exportselection=0)\n",
    "Lb1.insert(1, \"Date  Catagory\")\n",
    "Lb1.insert(2, \"Catagory Theme\")\n",
    "Lb1.insert(3, \"Date Theme\")\n",
    "\n",
    "Lb1.bind('<<ListboxSelect>>', callback)\n",
    "Lb1.pack()\n",
    "\n",
    "\n",
    "\n",
    "top.mainloop()"
   ]
  }
 ],
 "metadata": {
  "anaconda-cloud": {},
  "kernelspec": {
   "display_name": "Python [default]",
   "language": "python",
   "name": "python2"
  },
  "language_info": {
   "codemirror_mode": {
    "name": "ipython",
    "version": 2
   },
   "file_extension": ".py",
   "mimetype": "text/x-python",
   "name": "python",
   "nbconvert_exporter": "python",
   "pygments_lexer": "ipython2",
   "version": "2.7.12"
  }
 },
 "nbformat": 4,
 "nbformat_minor": 1
}
